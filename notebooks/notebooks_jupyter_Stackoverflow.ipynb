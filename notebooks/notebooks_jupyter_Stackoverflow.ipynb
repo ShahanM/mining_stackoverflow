{
  "nbformat": 4,
  "nbformat_minor": 0,
  "metadata": {
    "kernelspec": {
      "display_name": "Python 3",
      "language": "python",
      "name": "python3"
    },
    "language_info": {
      "codemirror_mode": {
        "name": "ipython",
        "version": 3
      },
      "file_extension": ".py",
      "mimetype": "text/x-python",
      "name": "python",
      "nbconvert_exporter": "python",
      "pygments_lexer": "ipython3",
      "version": "3.7.4"
    },
    "colab": {
      "name": "notebooks_jupyter_Stackoverflow.ipynb",
      "provenance": []
    }
  },
  "cells": [
    {
      "cell_type": "code",
      "metadata": {
        "id": "Qp59n9ZesX15",
        "outputId": "458646be-4aec-49a4-9df7-e2ed28781ef3"
      },
      "source": [
        "!scala -version"
      ],
      "execution_count": null,
      "outputs": [
        {
          "output_type": "stream",
          "text": [
            "Scala code runner version 2.12.10 -- Copyright 2002-2019, LAMP/EPFL and Lightbend, Inc.\n"
          ],
          "name": "stdout"
        }
      ]
    },
    {
      "cell_type": "code",
      "metadata": {
        "id": "0byBr4KdsX15",
        "outputId": "12bfc0b0-007c-40ca-c405-ad67a5cc86e0"
      },
      "source": [
        "!pyspark --packages graphframes:graphframes:0.5.0-spark2.1-s_2.11"
      ],
      "execution_count": null,
      "outputs": [
        {
          "output_type": "stream",
          "text": [
            "Python 3.7.4 (default, Aug 13 2019, 20:35:49) \n",
            "[GCC 7.3.0] :: Anaconda, Inc. on linux\n",
            "Type \"help\", \"copyright\", \"credits\" or \"license\" for more information.\n",
            "Ivy Default Cache set to: /root/.ivy2/cache\n",
            "The jars for the packages stored in: /root/.ivy2/jars\n",
            ":: loading settings :: url = jar:file:/usr/lib/spark/jars/ivy-2.4.0.jar!/org/apache/ivy/core/settings/ivysettings.xml\n",
            "graphframes#graphframes added as a dependency\n",
            ":: resolving dependencies :: org.apache.spark#spark-submit-parent-abf71a7f-5ff1-4baa-bdae-a037c3f41321;1.0\n",
            "\tconfs: [default]\n",
            "\tfound graphframes#graphframes;0.5.0-spark2.1-s_2.11 in spark-packages\n",
            "\tfound com.typesafe.scala-logging#scala-logging-api_2.11;2.1.2 in central\n",
            "\tfound com.typesafe.scala-logging#scala-logging-slf4j_2.11;2.1.2 in central\n",
            "\tfound org.scala-lang#scala-reflect;2.11.0 in central\n",
            "\tfound org.slf4j#slf4j-api;1.7.7 in central\n",
            "downloading https://dl.bintray.com/spark-packages/maven/graphframes/graphframes/0.5.0-spark2.1-s_2.11/graphframes-0.5.0-spark2.1-s_2.11.jar ...\n",
            "\t[SUCCESSFUL ] graphframes#graphframes;0.5.0-spark2.1-s_2.11!graphframes.jar (323ms)\n",
            "downloading https://repo1.maven.org/maven2/com/typesafe/scala-logging/scala-logging-api_2.11/2.1.2/scala-logging-api_2.11-2.1.2.jar ...\n",
            "\t[SUCCESSFUL ] com.typesafe.scala-logging#scala-logging-api_2.11;2.1.2!scala-logging-api_2.11.jar (15ms)\n",
            "downloading https://repo1.maven.org/maven2/com/typesafe/scala-logging/scala-logging-slf4j_2.11/2.1.2/scala-logging-slf4j_2.11-2.1.2.jar ...\n",
            "\t[SUCCESSFUL ] com.typesafe.scala-logging#scala-logging-slf4j_2.11;2.1.2!scala-logging-slf4j_2.11.jar (21ms)\n",
            "downloading https://repo1.maven.org/maven2/org/scala-lang/scala-reflect/2.11.0/scala-reflect-2.11.0.jar ...\n",
            "\t[SUCCESSFUL ] org.scala-lang#scala-reflect;2.11.0!scala-reflect.jar (264ms)\n",
            "downloading https://repo1.maven.org/maven2/org/slf4j/slf4j-api/1.7.7/slf4j-api-1.7.7.jar ...\n",
            "\t[SUCCESSFUL ] org.slf4j#slf4j-api;1.7.7!slf4j-api.jar (15ms)\n",
            ":: resolution report :: resolve 1893ms :: artifacts dl 645ms\n",
            "\t:: modules in use:\n",
            "\tcom.typesafe.scala-logging#scala-logging-api_2.11;2.1.2 from central in [default]\n",
            "\tcom.typesafe.scala-logging#scala-logging-slf4j_2.11;2.1.2 from central in [default]\n",
            "\tgraphframes#graphframes;0.5.0-spark2.1-s_2.11 from spark-packages in [default]\n",
            "\torg.scala-lang#scala-reflect;2.11.0 from central in [default]\n",
            "\torg.slf4j#slf4j-api;1.7.7 from central in [default]\n",
            "\t---------------------------------------------------------------------\n",
            "\t|                  |            modules            ||   artifacts   |\n",
            "\t|       conf       | number| search|dwnlded|evicted|| number|dwnlded|\n",
            "\t---------------------------------------------------------------------\n",
            "\t|      default     |   5   |   5   |   5   |   0   ||   5   |   5   |\n",
            "\t---------------------------------------------------------------------\n",
            ":: retrieving :: org.apache.spark#spark-submit-parent-abf71a7f-5ff1-4baa-bdae-a037c3f41321\n",
            "\tconfs: [default]\n",
            "\t5 artifacts copied, 0 already retrieved (4702kB/17ms)\n",
            "Setting default log level to \"WARN\".\n",
            "To adjust logging level use sc.setLogLevel(newLevel). For SparkR, use setLogLevel(newLevel).\n",
            "20/10/20 03:46:49 WARN org.apache.spark.deploy.yarn.Client: Same path resource file:///root/.ivy2/jars/graphframes_graphframes-0.5.0-spark2.1-s_2.11.jar added multiple times to distributed cache.\n",
            "20/10/20 03:46:49 WARN org.apache.spark.deploy.yarn.Client: Same path resource file:///root/.ivy2/jars/com.typesafe.scala-logging_scala-logging-api_2.11-2.1.2.jar added multiple times to distributed cache.\n",
            "20/10/20 03:46:49 WARN org.apache.spark.deploy.yarn.Client: Same path resource file:///root/.ivy2/jars/com.typesafe.scala-logging_scala-logging-slf4j_2.11-2.1.2.jar added multiple times to distributed cache.\n",
            "20/10/20 03:46:49 WARN org.apache.spark.deploy.yarn.Client: Same path resource file:///root/.ivy2/jars/org.scala-lang_scala-reflect-2.11.0.jar added multiple times to distributed cache.\n",
            "20/10/20 03:46:49 WARN org.apache.spark.deploy.yarn.Client: Same path resource file:///root/.ivy2/jars/org.slf4j_slf4j-api-1.7.7.jar added multiple times to distributed cache.\n",
            "Welcome to\n",
            "      ____              __\n",
            "     / __/__  ___ _____/ /__\n",
            "    _\\ \\/ _ \\/ _ `/ __/  '_/\n",
            "   /__ / .__/\\_,_/_/ /_/\\_\\   version 2.4.7\n",
            "      /_/\n",
            "\n",
            "Using Python version 3.7.4 (default, Aug 13 2019 20:35:49)\n",
            "SparkSession available as 'spark'.\n",
            ">>> \n",
            "Traceback (most recent call last):\n",
            "  File \"<stdin>\", line 1, in <module>\n",
            "  File \"/usr/lib/spark/python/pyspark/context.py\", line 270, in signal_handler\n",
            "    raise KeyboardInterrupt()\n",
            "KeyboardInterrupt\n",
            ">>> "
          ],
          "name": "stdout"
        }
      ]
    },
    {
      "cell_type": "code",
      "metadata": {
        "id": "Yb4DfZMysX15",
        "outputId": "9b1249f0-a917-4ddd-ec2d-791f73408fb4"
      },
      "source": [
        "from graphframes import *"
      ],
      "execution_count": null,
      "outputs": [
        {
          "output_type": "error",
          "ename": "ModuleNotFoundError",
          "evalue": "No module named 'graphframes'",
          "traceback": [
            "\u001b[0;31m---------------------------------------------------------------------------\u001b[0m",
            "\u001b[0;31mModuleNotFoundError\u001b[0m                       Traceback (most recent call last)",
            "\u001b[0;32m<ipython-input-17-02cbcaf60c0a>\u001b[0m in \u001b[0;36m<module>\u001b[0;34m\u001b[0m\n\u001b[0;32m----> 1\u001b[0;31m \u001b[0;32mfrom\u001b[0m \u001b[0mgraphframes\u001b[0m \u001b[0;32mimport\u001b[0m \u001b[0;34m*\u001b[0m\u001b[0;34m\u001b[0m\u001b[0;34m\u001b[0m\u001b[0m\n\u001b[0m",
            "\u001b[0;31mModuleNotFoundError\u001b[0m: No module named 'graphframes'"
          ]
        }
      ]
    },
    {
      "cell_type": "code",
      "metadata": {
        "id": "kYydSOBvsX16"
      },
      "source": [
        "from pyspark.sql import SparkSession\n",
        "spark = SparkSession.builder \\\n",
        "  .appName('Jupyter BigQuery Storage')\\\n",
        "  .config('spark.jars', 'gs://spark-lib/bigquery/spark-bigquery-latest_2.12.jar') \\\n",
        "  .getOrCreate()"
      ],
      "execution_count": null,
      "outputs": []
    },
    {
      "cell_type": "code",
      "metadata": {
        "id": "pmNwTxtGsX16",
        "outputId": "e96c0f1e-51d6-4f3d-8305-0cb03d5dc8d1"
      },
      "source": [
        "tags_table = 'bigquery-public-data.stackoverflow.tags'\n",
        "df = spark.read \\\n",
        "  .format(\"bigquery\") \\\n",
        "  .option(\"table\", tags_table) \\\n",
        "  .load()\n",
        "df.printSchema()"
      ],
      "execution_count": null,
      "outputs": [
        {
          "output_type": "stream",
          "text": [
            "root\n",
            " |-- id: long (nullable = true)\n",
            " |-- tag_name: string (nullable = true)\n",
            " |-- count: long (nullable = true)\n",
            " |-- excerpt_post_id: long (nullable = true)\n",
            " |-- wiki_post_id: long (nullable = true)\n",
            "\n"
          ],
          "name": "stdout"
        }
      ]
    },
    {
      "cell_type": "code",
      "metadata": {
        "id": "0RFOPlD5sX16",
        "outputId": "dfba4e4d-1989-49d9-d6ef-1c68a96b428d"
      },
      "source": [
        "df_preview = df.select('tag_name', 'count')\n",
        "df_preview.orderBy('count', ascending=False).show(20)"
      ],
      "execution_count": null,
      "outputs": [
        {
          "output_type": "stream",
          "text": [
            "+-------------+-------+\n",
            "|     tag_name|  count|\n",
            "+-------------+-------+\n",
            "|   javascript|2081682|\n",
            "|         java|1709763|\n",
            "|       python|1528649|\n",
            "|           c#|1433486|\n",
            "|          php|1369355|\n",
            "|      android|1296865|\n",
            "|         html|1019597|\n",
            "|       jquery| 996292|\n",
            "|          c++| 690400|\n",
            "|          css| 682048|\n",
            "|          ios| 639447|\n",
            "|        mysql| 606332|\n",
            "|          sql| 558201|\n",
            "|            r| 362851|\n",
            "|      asp.net| 358592|\n",
            "|      node.js| 348330|\n",
            "|       arrays| 340725|\n",
            "|            c| 338564|\n",
            "|ruby-on-rails| 320468|\n",
            "|         .net| 300816|\n",
            "+-------------+-------+\n",
            "only showing top 20 rows\n",
            "\n"
          ],
          "name": "stdout"
        }
      ]
    },
    {
      "cell_type": "code",
      "metadata": {
        "id": "6XvHQP3KsX16",
        "outputId": "dc45d03d-abba-4907-c97d-d17a20232dbb"
      },
      "source": [
        "df_preview.orderBy('count', ascending=True).show(20)"
      ],
      "execution_count": null,
      "outputs": [
        {
          "output_type": "stream",
          "text": [
            "+---------------+-----+\n",
            "|       tag_name|count|\n",
            "+---------------+-----+\n",
            "|           esql|    1|\n",
            "|       topcased|    1|\n",
            "|           pugs|    1|\n",
            "|           bduf|    1|\n",
            "|          crowd|    1|\n",
            "|  curl-language|    1|\n",
            "|    design-debt|    1|\n",
            "|           jscc|    1|\n",
            "|      firefox11|    1|\n",
            "|         bpgsql|    1|\n",
            "|           kmem|    1|\n",
            "|       korundum|    1|\n",
            "|    startup.cmd|    1|\n",
            "|       llvm-3.1|    1|\n",
            "|     slimpicker|    1|\n",
            "|       tracekit|    1|\n",
            "|     cg-toolkit|    1|\n",
            "| mapi-audiocopy|    1|\n",
            "|mapi-audiopaste|    1|\n",
            "|            ryz|    1|\n",
            "+---------------+-----+\n",
            "only showing top 20 rows\n",
            "\n"
          ],
          "name": "stdout"
        }
      ]
    },
    {
      "cell_type": "code",
      "metadata": {
        "id": "e_4JExZrsX16",
        "outputId": "f0176ff4-fa16-4806-e507-64e3db906da4"
      },
      "source": [
        "post_table = 'bigquery-public-data.stackoverflow.stackoverflow_posts'\n",
        "df = spark.read \\\n",
        "  .format(\"bigquery\") \\\n",
        "  .option(\"table\", post_table) \\\n",
        "  .load()\n",
        "df.printSchema()"
      ],
      "execution_count": null,
      "outputs": [
        {
          "output_type": "stream",
          "text": [
            "root\n",
            " |-- id: long (nullable = false)\n",
            " |-- title: string (nullable = true)\n",
            " |-- body: string (nullable = true)\n",
            " |-- accepted_answer_id: long (nullable = true)\n",
            " |-- answer_count: long (nullable = true)\n",
            " |-- comment_count: long (nullable = true)\n",
            " |-- community_owned_date: timestamp (nullable = true)\n",
            " |-- creation_date: timestamp (nullable = true)\n",
            " |-- favorite_count: long (nullable = true)\n",
            " |-- last_activity_date: timestamp (nullable = true)\n",
            " |-- last_edit_date: timestamp (nullable = true)\n",
            " |-- last_editor_display_name: string (nullable = true)\n",
            " |-- last_editor_user_id: long (nullable = true)\n",
            " |-- owner_display_name: string (nullable = true)\n",
            " |-- owner_user_id: long (nullable = true)\n",
            " |-- parent_id: long (nullable = true)\n",
            " |-- post_type_id: long (nullable = true)\n",
            " |-- score: long (nullable = true)\n",
            " |-- tags: string (nullable = true)\n",
            " |-- view_count: long (nullable = true)\n",
            "\n"
          ],
          "name": "stdout"
        }
      ]
    },
    {
      "cell_type": "code",
      "metadata": {
        "id": "6i12Ip1OsX16",
        "outputId": "79c81d2f-e49b-4eb9-bd0e-319d563b66cd"
      },
      "source": [
        "df.count()"
      ],
      "execution_count": null,
      "outputs": [
        {
          "output_type": "execute_result",
          "data": {
            "text/plain": [
              "31017889"
            ]
          },
          "metadata": {
            "tags": []
          },
          "execution_count": 8
        }
      ]
    },
    {
      "cell_type": "code",
      "metadata": {
        "id": "8WElgBMBsX16",
        "outputId": "50ee5176-2f38-4f69-c768-bf583c0a9cff"
      },
      "source": [
        "from pyspark.sql.functions import col, length\n",
        "df_prev_pqs = df.select('id', 'tags')\\\n",
        "    .where((col('tags').isNotNull()) & (length(col('tags')) > 0))\n",
        "df_prev_pqs.show(10)"
      ],
      "execution_count": null,
      "outputs": [
        {
          "output_type": "stream",
          "text": [
            "+--------+--------------------+\n",
            "|      id|                tags|\n",
            "+--------+--------------------+\n",
            "|  525063|android|url|andro...|\n",
            "|14128723|        java|eclipse|\n",
            "|   20728|winforms|deployme...|\n",
            "| 6531409|          ios4|uikit|\n",
            "|  593205| c#|delegates|action|\n",
            "|  377901|java|web-services...|\n",
            "|  638886|java|html|applet|...|\n",
            "|  235982|javascript|syntax...|\n",
            "|  687884|    xsd|guid|xsd.exe|\n",
            "|  373234|            perforce|\n",
            "+--------+--------------------+\n",
            "only showing top 10 rows\n",
            "\n"
          ],
          "name": "stdout"
        }
      ]
    },
    {
      "cell_type": "code",
      "metadata": {
        "id": "k6XOO5iGsX16",
        "outputId": "218b87d2-1d68-4089-982d-35d716c49c00"
      },
      "source": [
        "df_prev_pqs.count()"
      ],
      "execution_count": null,
      "outputs": [
        {
          "output_type": "execute_result",
          "data": {
            "text/plain": [
              "11846518"
            ]
          },
          "metadata": {
            "tags": []
          },
          "execution_count": 13
        }
      ]
    },
    {
      "cell_type": "code",
      "metadata": {
        "id": "lQked_eesX16",
        "outputId": "11496ef4-faa7-4a2e-ce7c-73452f068e84"
      },
      "source": [
        "df_prev_pqs.select('*') \\\n",
        "    .groupBy('tags') \\\n",
        "    .count().orderBy(col('count'), ascending=False) \\\n",
        "    .show(10)"
      ],
      "execution_count": null,
      "outputs": [
        {
          "output_type": "stream",
          "text": [
            "+-----------------+-----+\n",
            "|             tags|count|\n",
            "+-----------------+-----+\n",
            "|          android|89107|\n",
            "|             java|64807|\n",
            "|              php|64504|\n",
            "|javascript|jquery|64155|\n",
            "|       javascript|61253|\n",
            "|           jquery|49771|\n",
            "|           python|46085|\n",
            "|         html|css|45411|\n",
            "|               c#|43906|\n",
            "|        php|mysql|40867|\n",
            "+-----------------+-----+\n",
            "only showing top 10 rows\n",
            "\n"
          ],
          "name": "stdout"
        }
      ]
    },
    {
      "cell_type": "code",
      "metadata": {
        "id": "PeCB_KlxsX16",
        "outputId": "536a8410-ba95-419c-9a60-a8710988f3ce"
      },
      "source": [
        "#df_prev_pqs['tag_lst'] = df_prev_pqs\\\n",
        "#    .apply(lambda row: row['tags'].split('|'))\n",
        "#df_prev_pqs.show(10)\n",
        "import pyspark\n",
        "\n",
        "\n",
        "split_col = pyspark.sql.functions.split(df_prev_pqs['tags'], \"\\\\|\")\n",
        "df_prev_pqs = df_prev_pqs.withColumn('tag_lst', split_col)\n",
        "df_prev_pqs.show(10)"
      ],
      "execution_count": null,
      "outputs": [
        {
          "output_type": "stream",
          "text": [
            "+--------+--------------------+--------------------+\n",
            "|      id|                tags|             tag_lst|\n",
            "+--------+--------------------+--------------------+\n",
            "|  525063|android|url|andro...|[android, url, an...|\n",
            "|14128723|        java|eclipse|     [java, eclipse]|\n",
            "|   20728|winforms|deployme...|[winforms, deploy...|\n",
            "| 6531409|          ios4|uikit|       [ios4, uikit]|\n",
            "|  593205| c#|delegates|action|[c#, delegates, a...|\n",
            "|  377901|java|web-services...|[java, web-servic...|\n",
            "|  638886|java|html|applet|...|[java, html, appl...|\n",
            "|  235982|javascript|syntax...|[javascript, synt...|\n",
            "|  687884|    xsd|guid|xsd.exe|[xsd, guid, xsd.exe]|\n",
            "|  373234|            perforce|          [perforce]|\n",
            "+--------+--------------------+--------------------+\n",
            "only showing top 10 rows\n",
            "\n"
          ],
          "name": "stdout"
        }
      ]
    },
    {
      "cell_type": "code",
      "metadata": {
        "id": "nxL0xCoWsX17",
        "outputId": "15bce3e4-c95b-45b6-8afe-4679e73606dd"
      },
      "source": [
        "from pyspark.sql.functions import count, explode\n",
        "\n",
        "df_prev_pqs.select('*', explode(\"tag_lst\").alias(\"exploded\"))\\\n",
        "    .where(col(\"exploded\").isin([\"java\", \"html\"]))\\\n",
        "    .groupBy(\"tag_lst\").count().show(10)\n",
        "\n",
        "# df_prev_pqs.select(\"*\", explode(\"tag_lst\").alias(\"exploded\"))\\\n",
        "#     .where(col(\"exploded\") == \"java\" & col(\"exploded\") == \"html\")\\\n",
        "#     .show(10)"
      ],
      "execution_count": null,
      "outputs": [
        {
          "output_type": "stream",
          "text": [
            "+--------------------+-----+\n",
            "|             tag_lst|count|\n",
            "+--------------------+-----+\n",
            "|         [php, html]| 8446|\n",
            "|[java, random, im...|    1|\n",
            "|[html, windows-ph...|    1|\n",
            "|[java, android, url]|   46|\n",
            "|[java, jsp, array...|    1|\n",
            "|[javascript, html...|   22|\n",
            "|[java, android, f...|    3|\n",
            "|[php, mysql, html...|   12|\n",
            "|[html, css, mater...|    5|\n",
            "|[java, swing, bor...|   28|\n",
            "+--------------------+-----+\n",
            "only showing top 10 rows\n",
            "\n"
          ],
          "name": "stdout"
        }
      ]
    },
    {
      "cell_type": "code",
      "metadata": {
        "id": "29OyVJY9sX17"
      },
      "source": [
        "from pyspark.ml.fpm import FPGrowth\n",
        "\n",
        "fpGrowth = FPGrowth(itemsCol=\"tag_lst\", minSupport=0.00001, minConfidence=0.6)\n",
        "model = fpGrowth.fit(df_prev_pqs)"
      ],
      "execution_count": null,
      "outputs": []
    },
    {
      "cell_type": "code",
      "metadata": {
        "id": "VGljde2VsX17",
        "outputId": "f6c0f7d8-bb44-4f5c-dadc-901195826f09"
      },
      "source": [
        "# Display frequent itemsets.\n",
        "model.freqItemsets.orderBy('freq', ascending=False).show(10)"
      ],
      "execution_count": null,
      "outputs": [
        {
          "output_type": "stream",
          "text": [
            "+------------+-------+\n",
            "|       items|   freq|\n",
            "+------------+-------+\n",
            "|[javascript]|1143864|\n",
            "|      [java]|1086506|\n",
            "|        [c#]| 962755|\n",
            "|       [php]| 933606|\n",
            "|   [android]| 848769|\n",
            "|    [jquery]| 744879|\n",
            "|    [python]| 587679|\n",
            "|      [html]| 545002|\n",
            "|       [c++]| 452908|\n",
            "|       [ios]| 438169|\n",
            "+------------+-------+\n",
            "only showing top 10 rows\n",
            "\n"
          ],
          "name": "stdout"
        }
      ]
    },
    {
      "cell_type": "code",
      "metadata": {
        "id": "i8pGgjJhsX17",
        "outputId": "cb9bc03f-9f72-42d3-946c-0b850c852d4c"
      },
      "source": [
        "# Display generated association rules.\n",
        "model.associationRules.show(10)"
      ],
      "execution_count": null,
      "outputs": [
        {
          "output_type": "stream",
          "text": [
            "+--------------------+---------------+------------------+------------------+\n",
            "|          antecedent|     consequent|        confidence|              lift|\n",
            "+--------------------+---------------+------------------+------------------+\n",
            "|[fancybox, javasc...|       [jquery]| 0.799470549305096|12.714739243303553|\n",
            "| [dgrid, javascript]|         [dojo]|0.9477611940298507|1309.8075180560102|\n",
            "|               [awt]|         [java]|0.9802494802494802| 10.68796961292999|\n",
            "|[django-template-...|       [django]|0.9577464788732394| 93.75045157869538|\n",
            "| [mschart, winforms]|           [c#]|0.8502994011976048|10.462773147557423|\n",
            "|    [routes, devise]|[ruby-on-rails]|0.8177966101694916| 39.40727560042899|\n",
            "|[apache, regex, php]|  [mod-rewrite]|0.7716981132075472| 358.0299047810467|\n",
            "|[apache, regex, php]|    [.htaccess]|0.8584905660377359| 202.1170146547205|\n",
            "|        [enums, wpf]|           [c#]|0.6732673267326733| 8.284426988123142|\n",
            "|    [viewmodel, wpf]|         [mvvm]|              0.68|455.01763669227296|\n",
            "+--------------------+---------------+------------------+------------------+\n",
            "only showing top 10 rows\n",
            "\n"
          ],
          "name": "stdout"
        }
      ]
    },
    {
      "cell_type": "code",
      "metadata": {
        "id": "d6vVMwiysX17",
        "outputId": "094d7a29-8b89-46bb-ee5e-a84d2d89d395"
      },
      "source": [
        "model.associationRules\\\n",
        "    .orderBy('confidence', ascending=False)\\\n",
        "    .show(10)"
      ],
      "execution_count": null,
      "outputs": [
        {
          "output_type": "stream",
          "text": [
            "+--------------------+-----------+------------------+------------------+\n",
            "|          antecedent| consequent|        confidence|              lift|\n",
            "+--------------------+-----------+------------------+------------------+\n",
            "|            [wix3.7]|      [wix]|               1.0| 4400.949063564131|\n",
            "|[angularjs-contro...|[angularjs]|               1.0|173.93826509726514|\n",
            "|           [lattice]|        [r]|               1.0| 220.9660549674441|\n",
            "|       [awt, applet]|     [java]|               1.0|28.548290575477722|\n",
            "|        [data.table]|        [r]|               1.0| 220.9660549674441|\n",
            "|         [sitecore7]| [sitecore]|               1.0| 6476.903111296721|\n",
            "|                [s4]|        [r]|               1.0| 220.9660549674441|\n",
            "|[iron-router, jav...|   [meteor]|               1.0|1431.7050080775443|\n",
            "|         [sitecore6]| [sitecore]|0.9990654205607477| 6470.849930818874|\n",
            "|[ember-data, java...| [ember.js]|0.9989339019189766|1629.4936044207047|\n",
            "+--------------------+-----------+------------------+------------------+\n",
            "only showing top 10 rows\n",
            "\n"
          ],
          "name": "stdout"
        }
      ]
    },
    {
      "cell_type": "code",
      "metadata": {
        "id": "XnZiqGGHsX17",
        "outputId": "5bbb4a88-54d0-4302-b97f-45c0d9a9a23e"
      },
      "source": [
        "model.associationRules \\\n",
        "    .where(col('confidence') > 0.8) \\\n",
        "    .orderBy('confidence', ascending=True) \\\n",
        "    .show(10)"
      ],
      "execution_count": null,
      "outputs": [
        {
          "output_type": "stream",
          "text": [
            "+--------------------+--------------------+------------------+------------------+\n",
            "|          antecedent|          consequent|        confidence|              lift|\n",
            "+--------------------+--------------------+------------------+------------------+\n",
            "|        [filewriter]|              [java]|0.8002853067047075|  22.8467774790913|\n",
            "|  [mod-rewrite, php]|         [.htaccess]|0.8003224939532384|  493.348588609339|\n",
            "|[task-parallel-li...|                [c#]| 0.800332778702163|25.784995448317854|\n",
            "|[devise, ruby-on-...|     [ruby-on-rails]|0.8004201680672269|100.98820360257152|\n",
            "| [textbox, winforms]|                [c#]|0.8005272407732865|25.791260596706405|\n",
            "|[build.gradle, an...|           [android]|0.8005738880918221|29.256619877882624|\n",
            "|[jquery-ui-tabs, ...|            [jquery]|0.8008130081300813|  33.3470657595864|\n",
            "|[expandablelistad...|[expandablelistview]|  0.80083857442348| 9826.076743823474|\n",
            "|[extjs4.1, javasc...|             [extjs]|0.8010204081632653|1213.2409837952466|\n",
            "|              [qtip]|            [jquery]|0.8010204081632653|33.355702210886406|\n",
            "+--------------------+--------------------+------------------+------------------+\n",
            "only showing top 10 rows\n",
            "\n"
          ],
          "name": "stdout"
        }
      ]
    },
    {
      "cell_type": "code",
      "metadata": {
        "id": "qWWLxHrFsX17",
        "outputId": "f1be8c7b-f41e-4e77-9120-51967bf17f6a"
      },
      "source": [
        "from pyspark.sql.functions import size\n",
        "model.associationRules \\\n",
        "    .where((size(col('antecedent')) == 1) & (col('confidence') > 0.8)) \\\n",
        "    .orderBy('confidence', ascending=True) \\\n",
        "    .show(10)"
      ],
      "execution_count": null,
      "outputs": [
        {
          "output_type": "stream",
          "text": [
            "+--------------------+--------------------+------------------+------------------+\n",
            "|          antecedent|          consequent|        confidence|              lift|\n",
            "+--------------------+--------------------+------------------+------------------+\n",
            "|        [filewriter]|              [java]|0.8002853067047075|  22.8467774790913|\n",
            "|[task-parallel-li...|                [c#]| 0.800332778702163|25.784995448317854|\n",
            "|[expandablelistad...|[expandablelistview]|  0.80083857442348| 9826.076743823474|\n",
            "|              [qtip]|            [jquery]|0.8010204081632653|33.355702210886406|\n",
            "|             [flex3]|              [flex]|0.8011343495214462|1017.3379320209376|\n",
            "|             [scapy]|            [python]|0.8011834319526627| 42.28672244702762|\n",
            "|[atlassian-source...|               [git]|0.8012820512820513|346.81882874508426|\n",
            "|   [powershell-v2.0]|        [powershell]|0.8017771701982228| 710.2509001268766|\n",
            "|[uicollectionview...|               [ios]|0.8019851116625311| 56.77235307199047|\n",
            "|              [gawk]|               [awk]|0.8020679468242246|1644.6390259173465|\n",
            "+--------------------+--------------------+------------------+------------------+\n",
            "only showing top 10 rows\n",
            "\n"
          ],
          "name": "stdout"
        }
      ]
    },
    {
      "cell_type": "code",
      "metadata": {
        "id": "zq-c19X5sX17",
        "outputId": "08dc4e87-a90e-4749-fbab-9ed307c12c55"
      },
      "source": [
        "model.associationRules \\\n",
        "    .where((size(col('antecedent')) == 1)) \\\n",
        "    .count()"
      ],
      "execution_count": null,
      "outputs": [
        {
          "output_type": "execute_result",
          "data": {
            "text/plain": [
              "2200"
            ]
          },
          "metadata": {
            "tags": []
          },
          "execution_count": 82
        }
      ]
    },
    {
      "cell_type": "code",
      "metadata": {
        "id": "CNtluB9nsX17",
        "outputId": "607a5092-ebb1-4a01-91a9-564b3b6e09f6"
      },
      "source": [
        "model.freqItemsets \\\n",
        "    .where(size(col('items')) == 1) \\\n",
        "    .count()"
      ],
      "execution_count": null,
      "outputs": [
        {
          "output_type": "execute_result",
          "data": {
            "text/plain": [
              "7136"
            ]
          },
          "metadata": {
            "tags": []
          },
          "execution_count": 85
        }
      ]
    },
    {
      "cell_type": "code",
      "metadata": {
        "id": "gbxITckosX17",
        "outputId": "8acb0727-7ec7-4781-9f0b-2b2d8f103f93"
      },
      "source": [
        "for row in model.associationRules.iterrows():\n",
        "    print(row)\n",
        "    break"
      ],
      "execution_count": null,
      "outputs": [
        {
          "output_type": "error",
          "ename": "AttributeError",
          "evalue": "'DataFrame' object has no attribute 'iterrows'",
          "traceback": [
            "\u001b[0;31m---------------------------------------------------------------------------\u001b[0m",
            "\u001b[0;31mAttributeError\u001b[0m                            Traceback (most recent call last)",
            "\u001b[0;32m<ipython-input-72-9d2fd5118fee>\u001b[0m in \u001b[0;36m<module>\u001b[0;34m\u001b[0m\n\u001b[0;32m----> 1\u001b[0;31m \u001b[0;32mfor\u001b[0m \u001b[0mrow\u001b[0m \u001b[0;32min\u001b[0m \u001b[0mmodel\u001b[0m\u001b[0;34m.\u001b[0m\u001b[0massociationRules\u001b[0m\u001b[0;34m.\u001b[0m\u001b[0miterrows\u001b[0m\u001b[0;34m(\u001b[0m\u001b[0;34m)\u001b[0m\u001b[0;34m:\u001b[0m\u001b[0;34m\u001b[0m\u001b[0;34m\u001b[0m\u001b[0m\n\u001b[0m\u001b[1;32m      2\u001b[0m     \u001b[0mprint\u001b[0m\u001b[0;34m(\u001b[0m\u001b[0mrow\u001b[0m\u001b[0;34m)\u001b[0m\u001b[0;34m\u001b[0m\u001b[0;34m\u001b[0m\u001b[0m\n\u001b[1;32m      3\u001b[0m     \u001b[0;32mbreak\u001b[0m\u001b[0;34m\u001b[0m\u001b[0;34m\u001b[0m\u001b[0m\n",
            "\u001b[0;32m/usr/lib/spark/python/pyspark/sql/dataframe.py\u001b[0m in \u001b[0;36m__getattr__\u001b[0;34m(self, name)\u001b[0m\n\u001b[1;32m   1303\u001b[0m         \u001b[0;32mif\u001b[0m \u001b[0mname\u001b[0m \u001b[0;32mnot\u001b[0m \u001b[0;32min\u001b[0m \u001b[0mself\u001b[0m\u001b[0;34m.\u001b[0m\u001b[0mcolumns\u001b[0m\u001b[0;34m:\u001b[0m\u001b[0;34m\u001b[0m\u001b[0;34m\u001b[0m\u001b[0m\n\u001b[1;32m   1304\u001b[0m             raise AttributeError(\n\u001b[0;32m-> 1305\u001b[0;31m                 \"'%s' object has no attribute '%s'\" % (self.__class__.__name__, name))\n\u001b[0m\u001b[1;32m   1306\u001b[0m         \u001b[0mjc\u001b[0m \u001b[0;34m=\u001b[0m \u001b[0mself\u001b[0m\u001b[0;34m.\u001b[0m\u001b[0m_jdf\u001b[0m\u001b[0;34m.\u001b[0m\u001b[0mapply\u001b[0m\u001b[0;34m(\u001b[0m\u001b[0mname\u001b[0m\u001b[0;34m)\u001b[0m\u001b[0;34m\u001b[0m\u001b[0;34m\u001b[0m\u001b[0m\n\u001b[1;32m   1307\u001b[0m         \u001b[0;32mreturn\u001b[0m \u001b[0mColumn\u001b[0m\u001b[0;34m(\u001b[0m\u001b[0mjc\u001b[0m\u001b[0;34m)\u001b[0m\u001b[0;34m\u001b[0m\u001b[0;34m\u001b[0m\u001b[0m\n",
            "\u001b[0;31mAttributeError\u001b[0m: 'DataFrame' object has no attribute 'iterrows'"
          ]
        }
      ]
    },
    {
      "cell_type": "code",
      "metadata": {
        "id": "uXVR76aIsX17",
        "outputId": "b6cf9c2b-203d-4718-ccd6-5bff4d0d08a6"
      },
      "source": [
        "# transform examines the input items against all the association rules and summarize the\n",
        "# consequents as prediction\n",
        "model.transform(df_prev_pqs).show()"
      ],
      "execution_count": null,
      "outputs": [
        {
          "output_type": "stream",
          "text": [
            "+--------+--------------------+--------------------+----------+\n",
            "|      id|                tags|             tag_lst|prediction|\n",
            "+--------+--------------------+--------------------+----------+\n",
            "|  525063|android|url|andro...|[android, url, an...|        []|\n",
            "|14128723|        java|eclipse|     [java, eclipse]|        []|\n",
            "|   20728|winforms|deployme...|[winforms, deploy...|      [c#]|\n",
            "| 6531409|          ios4|uikit|       [ios4, uikit]|        []|\n",
            "|  593205| c#|delegates|action|[c#, delegates, a...|        []|\n",
            "|  377901|java|web-services...|[java, web-servic...|        []|\n",
            "|  638886|java|html|applet|...|[java, html, appl...|     [css]|\n",
            "|  235982|javascript|syntax...|[javascript, synt...|        []|\n",
            "|  687884|    xsd|guid|xsd.exe|[xsd, guid, xsd.exe]|     [xml]|\n",
            "|  373234|            perforce|          [perforce]|        []|\n",
            "|   11318|.net|winforms|ani...|[.net, winforms, ...|      [c#]|\n",
            "|  520030|    c#|linq|distinct|[c#, linq, distinct]|        []|\n",
            "|15301999|   python|python-2.7|[python, python-2.7]|        []|\n",
            "|  216694|c#|winforms|model...|[c#, winforms, mo...|        []|\n",
            "|  395321|c#|.net|winforms|...|[c#, .net, winfor...|        []|\n",
            "|  125632|url|pdf|hyperlink...|[url, pdf, hyperl...|        []|\n",
            "|  927806|  linux|svn|checkout|[linux, svn, chec...|        []|\n",
            "|  335279|.net|windows|seri...|[.net, windows, s...|        []|\n",
            "|  421458|ruby-on-rails|rub...|[ruby-on-rails, r...|        []|\n",
            "| 6513461|php|regex|preg-match|[php, regex, preg...|        []|\n",
            "+--------+--------------------+--------------------+----------+\n",
            "only showing top 20 rows\n",
            "\n"
          ],
          "name": "stdout"
        }
      ]
    },
    {
      "cell_type": "code",
      "metadata": {
        "id": "Z2bLW8vYsX17",
        "outputId": "ed43c2da-68c5-4af1-a414-a221f15a780c"
      },
      "source": [
        "question_table = 'bigquery-public-data.stackoverflow.posts_questions'\n",
        "df = spark.read \\\n",
        "  .format(\"bigquery\") \\\n",
        "  .option(\"table\", question_table) \\\n",
        "  .load()\n",
        "df.printSchema()"
      ],
      "execution_count": null,
      "outputs": [
        {
          "output_type": "stream",
          "text": [
            "root\n",
            " |-- id: long (nullable = true)\n",
            " |-- title: string (nullable = true)\n",
            " |-- body: string (nullable = true)\n",
            " |-- accepted_answer_id: long (nullable = true)\n",
            " |-- answer_count: long (nullable = true)\n",
            " |-- comment_count: long (nullable = true)\n",
            " |-- community_owned_date: timestamp (nullable = true)\n",
            " |-- creation_date: timestamp (nullable = true)\n",
            " |-- favorite_count: long (nullable = true)\n",
            " |-- last_activity_date: timestamp (nullable = true)\n",
            " |-- last_edit_date: timestamp (nullable = true)\n",
            " |-- last_editor_display_name: string (nullable = true)\n",
            " |-- last_editor_user_id: long (nullable = true)\n",
            " |-- owner_display_name: string (nullable = true)\n",
            " |-- owner_user_id: long (nullable = true)\n",
            " |-- parent_id: string (nullable = true)\n",
            " |-- post_type_id: long (nullable = true)\n",
            " |-- score: long (nullable = true)\n",
            " |-- tags: string (nullable = true)\n",
            " |-- view_count: long (nullable = true)\n",
            "\n"
          ],
          "name": "stdout"
        }
      ]
    },
    {
      "cell_type": "code",
      "metadata": {
        "id": "SOd9vf0ysX17",
        "outputId": "11999450-d61c-4ff8-83a0-97d4ed27a142"
      },
      "source": [
        "df.count()"
      ],
      "execution_count": null,
      "outputs": [
        {
          "output_type": "execute_result",
          "data": {
            "text/plain": [
              "20094655"
            ]
          },
          "metadata": {
            "tags": []
          },
          "execution_count": 25
        }
      ]
    },
    {
      "cell_type": "code",
      "metadata": {
        "id": "eqHxQu50sX17"
      },
      "source": [
        ""
      ],
      "execution_count": null,
      "outputs": []
    }
  ]
}